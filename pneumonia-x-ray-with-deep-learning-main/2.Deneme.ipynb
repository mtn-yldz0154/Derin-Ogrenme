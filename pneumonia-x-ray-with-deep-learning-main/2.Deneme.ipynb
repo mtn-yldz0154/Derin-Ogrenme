{
 "cells": [
  {
   "cell_type": "code",
   "execution_count": 1,
   "id": "bb83cd92-16cb-4eb2-9ba5-9845c2031b0d",
   "metadata": {},
   "outputs": [],
   "source": [
    "import numpy as np \n",
    "import pandas as pd \n",
    "import matplotlib.pyplot as plt\n",
    "import glob\n",
    "import cv2\n",
    "import os\n",
    "import seaborn as sns"
   ]
  },
  {
   "cell_type": "code",
   "execution_count": 2,
   "id": "30b9b38d-f46d-43d7-a60a-2289c9bc4f30",
   "metadata": {},
   "outputs": [
    {
     "name": "stdout",
     "output_type": "stream",
     "text": [
      "['Bacterial', 'test', 'train', 'validation', 'Viral']\n"
     ]
    }
   ],
   "source": [
    "print(os.listdir(\"X-Ray\"))"
   ]
  },
  {
   "cell_type": "code",
   "execution_count": 3,
   "id": "a21475f6-6be8-485e-baba-45f524311235",
   "metadata": {},
   "outputs": [],
   "source": [
    "import os\n",
    "import shutil\n",
    "from sklearn.model_selection import train_test_split\n",
    "\n",
    "CATEGORIES = [\"Bacterial\", \"Viral\"]\n",
    "DATADIR = 'X-Ray'\n",
    "\n",
    "image_size = 100\n",
    "\n",
    "for klasor in CATEGORIES:\n",
    "    klasor_path = os.path.join(DATADIR, klasor)\n",
    "    train_path = os.path.join(DATADIR, 'train', klasor)\n",
    "    validation_path = os.path.join(DATADIR, 'validation',klasor)\n",
    "    test_path = os.path.join(DATADIR, 'test', klasor)\n",
    "\n",
    "    os.makedirs(train_path, exist_ok=True)\n",
    "    os.makedirs(validation_path, exist_ok=True)\n",
    "    os.makedirs(test_path, exist_ok=True)\n",
    "\n",
    "    resimler = [dosya for dosya in os.listdir(klasor_path) if dosya.endswith('.jpg')]\n",
    "\n",
    "    train_resimler, test_resimler = train_test_split(resimler, test_size=0.35, random_state=42)\n",
    "\n",
    "    train_resimler, validation_resimler = train_test_split(train_resimler, test_size=0.1, random_state=42)\n",
    "\n",
    "    for resim in train_resimler:\n",
    "        source_path = os.path.join(klasor_path, resim)\n",
    "        target_path = os.path.join(train_path, resim)\n",
    "        shutil.copy(source_path, target_path)\n",
    "\n",
    "    for resim in validation_resimler:\n",
    "        source_path = os.path.join(klasor_path, resim)\n",
    "        target_path = os.path.join(validation_path, resim)\n",
    "        shutil.copy(source_path, target_path)\n",
    "\n",
    "    for resim in test_resimler:\n",
    "        source_path = os.path.join(klasor_path, resim)\n",
    "        target_path = os.path.join(test_path, resim)\n",
    "        shutil.copy(source_path, target_path)"
   ]
  },
  {
   "cell_type": "code",
   "execution_count": 4,
   "id": "0758d25e-598f-441b-bb1e-ab5d4ac8a46d",
   "metadata": {},
   "outputs": [],
   "source": [
    "IMG_SIZE = 100"
   ]
  },
  {
   "cell_type": "code",
   "execution_count": 5,
   "id": "a65a558f-af4a-4390-a32c-7e0afcf03f7a",
   "metadata": {},
   "outputs": [
    {
     "name": "stdout",
     "output_type": "stream",
     "text": [
      "Bacterial\n",
      "Viral\n"
     ]
    }
   ],
   "source": [
    "all_data =[]\n",
    "\n",
    "def create_all_data():\n",
    "    for category in CATEGORIES:\n",
    "        print(category)\n",
    "        path=os.path.join(DATADIR, category)\n",
    "        class_num=CATEGORIES.index(category)\n",
    "        for img in os.listdir(path):\n",
    "            try:\n",
    "                img_array=cv2.imread(os.path.join(path,img))\n",
    "                new_array=cv2.resize(img_array,(IMG_SIZE,IMG_SIZE))\n",
    "                all_data.append([new_array,class_num])\n",
    "            except Exception as e:\n",
    "                pass\n",
    "create_all_data()"
   ]
  },
  {
   "cell_type": "code",
   "execution_count": 6,
   "id": "c21c18f7-0cca-44e1-866f-e72a25208a5e",
   "metadata": {},
   "outputs": [
    {
     "name": "stdout",
     "output_type": "stream",
     "text": [
      "Toplam Görüntü Sayısı:  3592\n"
     ]
    }
   ],
   "source": [
    "print(\"Toplam Görüntü Sayısı: \", len(all_data))"
   ]
  },
  {
   "cell_type": "code",
   "execution_count": 7,
   "id": "3e5dbc34-b126-4993-9729-e2e5a7873e77",
   "metadata": {},
   "outputs": [],
   "source": [
    "\n",
    "X = []\n",
    "y = []\n",
    "\n",
    "for categories, label in all_data:\n",
    "  X.append(categories)\n",
    "  y.append(label)"
   ]
  },
  {
   "cell_type": "code",
   "execution_count": 8,
   "id": "0f2cbcd1-842d-4158-8970-12d0b5859355",
   "metadata": {},
   "outputs": [],
   "source": [
    "from sklearn.model_selection import train_test_split\n",
    "\n",
    "x_train, x_test, y_train, y_test = train_test_split(X, y, test_size=0.35, random_state =42)\n",
    "\n",
    "x_train, x_val, y_train, y_val = train_test_split(x_train, y_train, test_size=0.10, random_state=42)"
   ]
  },
  {
   "cell_type": "code",
   "execution_count": 9,
   "id": "1efa5006-0408-4df4-a97d-53a92543a1c3",
   "metadata": {},
   "outputs": [],
   "source": [
    "x_train = np.array(x_train)\n",
    "x_test = np.array(x_test)\n",
    "\n",
    "y_train = np.array(y_train)\n",
    "y_test = np.array(y_test)\n",
    "\n",
    "x_val = np.array(x_val)\n",
    "y_val = np.array(y_val)"
   ]
  },
  {
   "cell_type": "code",
   "execution_count": 10,
   "id": "d2b0d3ea-cd12-4942-a79a-8db89aa05a24",
   "metadata": {},
   "outputs": [
    {
     "name": "stdout",
     "output_type": "stream",
     "text": [
      "(2100, 100, 100, 3)\n",
      "(1258, 100, 100, 3)\n",
      "(234, 100, 100, 3)\n",
      "(2100,)\n",
      "(1258,)\n",
      "(234,)\n"
     ]
    }
   ],
   "source": [
    "print(x_train.shape)\n",
    "print(x_test.shape)\n",
    "print(x_val.shape)\n",
    "\n",
    "print(y_train.shape)\n",
    "print(y_test.shape)\n",
    "print(y_val.shape)"
   ]
  },
  {
   "cell_type": "code",
   "execution_count": 11,
   "id": "141eff61-f6e5-4051-8842-38c70aec2f1f",
   "metadata": {},
   "outputs": [
    {
     "name": "stdout",
     "output_type": "stream",
     "text": [
      "WARNING:tensorflow:From c:\\users\\excalibur\\appdata\\local\\programs\\python\\python39\\lib\\site-packages\\keras\\src\\losses.py:2976: The name tf.losses.sparse_softmax_cross_entropy is deprecated. Please use tf.compat.v1.losses.sparse_softmax_cross_entropy instead.\n",
      "\n"
     ]
    }
   ],
   "source": [
    "import tensorflow as tf\n",
    "\n",
    "train_yCl = tf.keras.utils.to_categorical(y_train, num_classes=2)\n",
    "test_yCl = tf.keras.utils.to_categorical(y_test, num_classes=2)\n",
    "valid_yCl = tf.keras.utils.to_categorical(y_val, num_classes=2)"
   ]
  },
  {
   "cell_type": "code",
   "execution_count": 12,
   "id": "490d7e7d-4bca-42e7-a6ae-881f4ff81623",
   "metadata": {},
   "outputs": [
    {
     "name": "stderr",
     "output_type": "stream",
     "text": [
      "<ipython-input-12-f50e9e4db4cf>:6: DeprecationWarning: `import kerastuner` is deprecated, please use `import keras_tuner`.\n",
      "  from kerastuner.tuners import RandomSearch\n"
     ]
    },
    {
     "name": "stdout",
     "output_type": "stream",
     "text": [
      "Reloading Tuner from my_dir\\my_project\\tuner0.json\n",
      "WARNING:tensorflow:From c:\\users\\excalibur\\appdata\\local\\programs\\python\\python39\\lib\\site-packages\\keras\\src\\backend.py:873: The name tf.get_default_graph is deprecated. Please use tf.compat.v1.get_default_graph instead.\n",
      "\n",
      "WARNING:tensorflow:From c:\\users\\excalibur\\appdata\\local\\programs\\python\\python39\\lib\\site-packages\\keras\\src\\layers\\pooling\\max_pooling2d.py:161: The name tf.nn.max_pool is deprecated. Please use tf.nn.max_pool2d instead.\n",
      "\n",
      "Epoch 1/5\n",
      "WARNING:tensorflow:From c:\\users\\excalibur\\appdata\\local\\programs\\python\\python39\\lib\\site-packages\\keras\\src\\utils\\tf_utils.py:492: The name tf.ragged.RaggedTensorValue is deprecated. Please use tf.compat.v1.ragged.RaggedTensorValue instead.\n",
      "\n",
      "WARNING:tensorflow:From c:\\users\\excalibur\\appdata\\local\\programs\\python\\python39\\lib\\site-packages\\keras\\src\\engine\\base_layer_utils.py:384: The name tf.executing_eagerly_outside_functions is deprecated. Please use tf.compat.v1.executing_eagerly_outside_functions instead.\n",
      "\n",
      "9/9 [==============================] - ETA: 0s - loss: 4.6428 - accuracy: 0.5529 "
     ]
    },
    {
     "name": "stderr",
     "output_type": "stream",
     "text": [
      "c:\\users\\excalibur\\appdata\\local\\programs\\python\\python39\\lib\\site-packages\\keras\\src\\engine\\training.py:3103: UserWarning: You are saving your model as an HDF5 file via `model.save()`. This file format is considered legacy. We recommend using instead the native Keras format, e.g. `model.save('my_model.keras')`.\n",
      "  saving_api.save_model(\n"
     ]
    },
    {
     "name": "stdout",
     "output_type": "stream",
     "text": [
      "9/9 [==============================] - 114s 12s/step - loss: 4.6428 - accuracy: 0.5529 - val_loss: 139.8224 - val_accuracy: 0.6068\n",
      "Epoch 2/5\n",
      "9/9 [==============================] - 115s 13s/step - loss: 0.9861 - accuracy: 0.6071 - val_loss: 162.7083 - val_accuracy: 0.6068\n",
      "Epoch 3/5\n",
      "9/9 [==============================] - 115s 13s/step - loss: 0.8612 - accuracy: 0.6333 - val_loss: 128.4598 - val_accuracy: 0.6068\n",
      "Epoch 4/5\n",
      "9/9 [==============================] - 116s 13s/step - loss: 0.7308 - accuracy: 0.6867 - val_loss: 73.9754 - val_accuracy: 0.6068\n",
      "Epoch 5/5\n",
      "9/9 [==============================] - 122s 14s/step - loss: 0.6691 - accuracy: 0.6943 - val_loss: 51.7070 - val_accuracy: 0.6068\n",
      "8/8 [==============================] - 3s 352ms/step - loss: 51.7070 - accuracy: 0.6068\n",
      "Validation Accuracy:  0.6068376302719116\n",
      "40/40 [==============================] - 15s 381ms/step - loss: 51.1936 - accuracy: 0.6200\n",
      "Test Accuracy:  0.6200317740440369\n",
      "66/66 [==============================] - 26s 390ms/step - loss: 52.0162 - accuracy: 0.6138\n",
      "Train Accuracy:  0.6138095259666443\n"
     ]
    }
   ],
   "source": [
    "from tensorflow import keras\n",
    "from tensorflow.keras.models import Sequential\n",
    "from tensorflow.keras.layers import Conv2D, MaxPooling2D, Flatten, Dense, Dropout, BatchNormalization\n",
    "from tensorflow.keras.optimizers import Adam\n",
    "from tensorflow.keras.callbacks import ModelCheckpoint, EarlyStopping\n",
    "from kerastuner.tuners import RandomSearch\n",
    "\n",
    "# Model fonksiyonunu tanımla\n",
    "def build_model(hp):\n",
    "    model = Sequential()\n",
    "\n",
    "    model.add(Conv2D(64, (3, 3), padding='same', input_shape=(IMG_SIZE, IMG_SIZE, 3), activation='relu'))\n",
    "    model.add(Conv2D(64, (3, 3), padding='same', activation='relu'))\n",
    "    model.add(MaxPooling2D(pool_size=(2, 2)))\n",
    "    model.add(BatchNormalization())\n",
    "    model.add(Dropout(0.25))\n",
    "\n",
    "    model.add(Conv2D(128, (3, 3), padding='same', activation='relu'))\n",
    "    model.add(Conv2D(128, (3, 3), padding='same', activation='relu'))\n",
    "    model.add(MaxPooling2D(pool_size=(2, 2)))\n",
    "    model.add(BatchNormalization())\n",
    "    model.add(Dropout(0.25))\n",
    "\n",
    "    model.add(Conv2D(256, (3, 3), padding='same', activation='relu'))\n",
    "    model.add(Conv2D(256, (3, 3), padding='same', activation='relu'))\n",
    "    model.add(MaxPooling2D(pool_size=(2, 2)))\n",
    "    model.add(BatchNormalization())\n",
    "    model.add(Dropout(0.25))\n",
    "\n",
    "    model.add(Flatten())\n",
    "    model.add(Dense(512, activation='relu'))\n",
    "    model.add(Dropout(0.5))\n",
    "    model.add(Dense(256, activation='relu'))\n",
    "    model.add(Dense(2, activation='softmax'))\n",
    "\n",
    "    # Hiperparametreler\n",
    "    optimizer = Adam(learning_rate=hp.Float('learning_rate', min_value=1e-6, max_value=1e-2, sampling='log'))\n",
    "    model.compile(loss=\"categorical_crossentropy\", optimizer=optimizer, metrics=['accuracy'])\n",
    "\n",
    "    return model\n",
    "\n",
    "# Tuner'ı tanımla\n",
    "tuner = RandomSearch(\n",
    "    build_model,\n",
    "    objective='val_accuracy',\n",
    "    max_trials=5,  # Farklı hiperparametre kombinasyonları sayısı\n",
    "    directory='my_dir',  # Tuner'ın sonuçlarını saklamak için bir dizin\n",
    "    project_name='my_project'\n",
    ")\n",
    "\n",
    "# Modeli eğitim verileri üzerinde eğitme\n",
    "tuner.search(x_train, train_yCl,\n",
    "             epochs=5,\n",
    "             batch_size=256,\n",
    "             validation_data=(x_val, valid_yCl),\n",
    "             callbacks=[ModelCheckpoint(\"best_model.h5\", monitor=\"val_loss\", save_best_only=True),\n",
    "                        EarlyStopping(monitor=\"val_loss\", patience=10)])\n",
    "\n",
    "# En iyi hiperparametreleri al\n",
    "best_hps = tuner.get_best_hyperparameters(num_trials=1)[0]\n",
    "\n",
    "# En iyi modeli oluştur\n",
    "best_model = tuner.hypermodel.build(best_hps)\n",
    "\n",
    "# Modeli eğit\n",
    "best_model.fit(x_train, train_yCl,\n",
    "               epochs=5,\n",
    "               batch_size=256,\n",
    "               validation_data=(x_val, valid_yCl),\n",
    "               callbacks=[ModelCheckpoint(\"best_model.h5\", monitor=\"val_loss\", save_best_only=True),\n",
    "                          EarlyStopping(monitor=\"val_loss\", patience=10)])\n",
    "\n",
    "# Model değerlendirme\n",
    "score_valid = best_model.evaluate(x_val, valid_yCl)\n",
    "print(\"Validation Accuracy: \", score_valid[1])\n",
    "\n",
    "score_test = best_model.evaluate(x_test, test_yCl)\n",
    "print(\"Test Accuracy: \", score_test[1])\n",
    "\n",
    "score_train = best_model.evaluate(x_train, train_yCl)\n",
    "print(\"Train Accuracy: \", score_train[1])\n"
   ]
  },
  {
   "cell_type": "code",
   "execution_count": 13,
   "id": "ae88ac44-2069-44af-90e9-a0ba05a52226",
   "metadata": {},
   "outputs": [
    {
     "name": "stdout",
     "output_type": "stream",
     "text": [
      "40/40 [==============================] - 16s 385ms/step\n",
      "Accuracy: 62.00%\n",
      "Precision: 0.38\n",
      "Recall: 0.62\n",
      "F1 Score: 0.47\n",
      "Confusion Matrix:\n",
      " [[780   0]\n",
      " [478   0]]\n",
      "Classification Report:\n",
      "               precision    recall  f1-score   support\n",
      "\n",
      "   Bacterial       0.62      1.00      0.77       780\n",
      "       Viral       0.00      0.00      0.00       478\n",
      "\n",
      "    accuracy                           0.62      1258\n",
      "   macro avg       0.31      0.50      0.38      1258\n",
      "weighted avg       0.38      0.62      0.47      1258\n",
      "\n"
     ]
    },
    {
     "name": "stderr",
     "output_type": "stream",
     "text": [
      "c:\\users\\excalibur\\appdata\\local\\programs\\python\\python39\\lib\\site-packages\\sklearn\\metrics\\_classification.py:1471: UndefinedMetricWarning: Precision is ill-defined and being set to 0.0 in labels with no predicted samples. Use `zero_division` parameter to control this behavior.\n",
      "  _warn_prf(average, modifier, msg_start, len(result))\n",
      "c:\\users\\excalibur\\appdata\\local\\programs\\python\\python39\\lib\\site-packages\\sklearn\\metrics\\_classification.py:1471: UndefinedMetricWarning: Precision and F-score are ill-defined and being set to 0.0 in labels with no predicted samples. Use `zero_division` parameter to control this behavior.\n",
      "  _warn_prf(average, modifier, msg_start, len(result))\n",
      "c:\\users\\excalibur\\appdata\\local\\programs\\python\\python39\\lib\\site-packages\\sklearn\\metrics\\_classification.py:1471: UndefinedMetricWarning: Precision and F-score are ill-defined and being set to 0.0 in labels with no predicted samples. Use `zero_division` parameter to control this behavior.\n",
      "  _warn_prf(average, modifier, msg_start, len(result))\n",
      "c:\\users\\excalibur\\appdata\\local\\programs\\python\\python39\\lib\\site-packages\\sklearn\\metrics\\_classification.py:1471: UndefinedMetricWarning: Precision and F-score are ill-defined and being set to 0.0 in labels with no predicted samples. Use `zero_division` parameter to control this behavior.\n",
      "  _warn_prf(average, modifier, msg_start, len(result))\n"
     ]
    }
   ],
   "source": [
    "from sklearn.metrics import accuracy_score, precision_score, recall_score, f1_score, confusion_matrix, classification_report\n",
    "\n",
    "y_pred_prob = best_model.predict(x_test)  # Assuming best_model is the model you want to evaluate\n",
    "y_pred = np.argmax(y_pred_prob, axis=1)\n",
    "\n",
    "# Accuracy\n",
    "accuracy = accuracy_score(np.argmax(test_yCl, axis=1), y_pred)  # Assuming test_yCl is the true labels for the test set\n",
    "print(\"Accuracy: {:.2f}%\".format(accuracy * 100))\n",
    "\n",
    "# Precision\n",
    "precision = precision_score(np.argmax(test_yCl, axis=1), y_pred, average='weighted')  # Use 'weighted' for multi-class\n",
    "print(\"Precision: {:.2f}\".format(precision))\n",
    "\n",
    "# Recall\n",
    "recall = recall_score(np.argmax(test_yCl, axis=1), y_pred, average='weighted')  # Use 'weighted' for multi-class\n",
    "print(\"Recall: {:.2f}\".format(recall))\n",
    "\n",
    "# F1 Score\n",
    "f1 = f1_score(np.argmax(test_yCl, axis=1), y_pred, average='weighted')  # Use 'weighted' for multi-class\n",
    "print(\"F1 Score: {:.2f}\".format(f1))\n",
    "\n",
    "# Karmaşıklık Matrisi\n",
    "conf_mat = confusion_matrix(np.argmax(test_yCl, axis=1), y_pred)\n",
    "print(\"Confusion Matrix:\\n\", conf_mat)\n",
    "\n",
    "# Classification Report\n",
    "class_report = classification_report(np.argmax(test_yCl, axis=1), y_pred, target_names=CATEGORIES)\n",
    "print(\"Classification Report:\\n\", class_report)"
   ]
  },
  {
   "cell_type": "code",
   "execution_count": 14,
   "id": "fa478eb3-a068-4341-ae91-96b1eb5cff2c",
   "metadata": {},
   "outputs": [
    {
     "name": "stderr",
     "output_type": "stream",
     "text": [
      "WARNING:absl:`lr` is deprecated in Keras optimizer, please use `learning_rate` or use the legacy optimizer, e.g.,tf.keras.optimizers.legacy.Adam.\n"
     ]
    },
    {
     "name": "stdout",
     "output_type": "stream",
     "text": [
      "Epoch 1/5\n",
      "9/9 [==============================] - ETA: 0s - loss: 0.9927 - accuracy: 0.5319 "
     ]
    },
    {
     "name": "stderr",
     "output_type": "stream",
     "text": [
      "c:\\users\\excalibur\\appdata\\local\\programs\\python\\python39\\lib\\site-packages\\keras\\src\\engine\\training.py:3103: UserWarning: You are saving your model as an HDF5 file via `model.save()`. This file format is considered legacy. We recommend using instead the native Keras format, e.g. `model.save('my_model.keras')`.\n",
      "  saving_api.save_model(\n"
     ]
    },
    {
     "name": "stdout",
     "output_type": "stream",
     "text": [
      "9/9 [==============================] - 210s 23s/step - loss: 0.9927 - accuracy: 0.5319 - val_loss: 28782.4746 - val_accuracy: 0.3932\n",
      "Epoch 2/5\n",
      "9/9 [==============================] - 206s 22s/step - loss: 0.7804 - accuracy: 0.5771 - val_loss: 25.6392 - val_accuracy: 0.3932\n",
      "Epoch 3/5\n",
      "9/9 [==============================] - 205s 23s/step - loss: 0.7720 - accuracy: 0.6086 - val_loss: 889.2433 - val_accuracy: 0.4103\n",
      "Epoch 4/5\n",
      "9/9 [==============================] - 217s 23s/step - loss: 0.7363 - accuracy: 0.6224 - val_loss: 9.6870 - val_accuracy: 0.3932\n",
      "Epoch 5/5\n",
      "9/9 [==============================] - 192s 21s/step - loss: 0.7405 - accuracy: 0.6381 - val_loss: 2.9315 - val_accuracy: 0.3974\n"
     ]
    },
    {
     "data": {
      "image/png": "[encoded data removed]",
      "text/plain": [
       "<Figure size 432x288 with 1 Axes>"
      ]
     },
     "metadata": {
      "needs_background": "light"
     },
     "output_type": "display_data"
    },
    {
     "name": "stdout",
     "output_type": "stream",
     "text": [
      "40/40 [==============================] - 29s 716ms/step - loss: 2.9318 - accuracy: 0.3792\n",
      "Transfer Learning Test Accuracy: 37.92%\n"
     ]
    }
   ],
   "source": [
    "from keras.applications import VGG16\n",
    "from keras.models import Sequential\n",
    "from keras.layers import Dense, Flatten, BatchNormalization, Dropout\n",
    "from keras.optimizers import Adam\n",
    "from keras.callbacks import ModelCheckpoint, EarlyStopping\n",
    "\n",
    "# VGG16 modelini kullanarak yeni bir model oluşturun\n",
    "base_model = VGG16(weights='imagenet', include_top=False, input_shape=(IMG_SIZE, IMG_SIZE, 3))\n",
    "\n",
    "model = Sequential()\n",
    "\n",
    "# Önceden eğitilmiş VGG16 modelini ekleyin\n",
    "model.add(base_model)\n",
    "\n",
    "# Flatten layer ekleyin\n",
    "model.add(Flatten())\n",
    "\n",
    "# Tamamen bağlı katman ekleyin\n",
    "model.add(Dense(512, activation='relu'))\n",
    "model.add(BatchNormalization())\n",
    "model.add(Dropout(0.5))\n",
    "\n",
    "# Sınıf sayısı kadar çıkış katmanı ekleyin\n",
    "model.add(Dense(2, activation='softmax'))\n",
    "\n",
    "# Modeli derleme\n",
    "model.compile(optimizer=Adam(lr=0.0001), loss='categorical_crossentropy', metrics=['accuracy'])\n",
    "\n",
    "# Modeli eğitim verileri üzerinde eğitme\n",
    "history = model.fit(x_train, train_yCl,\n",
    "                    epochs=5,\n",
    "                    batch_size=256,\n",
    "                    validation_data=(x_val, valid_yCl),\n",
    "                    callbacks=[ModelCheckpoint(\"best_transfer_learning_model.h5\", monitor=\"val_loss\", save_best_only=True),\n",
    "                               EarlyStopping(monitor=\"val_loss\", patience=3)],\n",
    "                    verbose=1)\n",
    "\n",
    "# Eğitim sonuçlarını görselleştirme (isteğe bağlı)\n",
    "import matplotlib.pyplot as plt\n",
    "\n",
    "plt.plot(history.history['accuracy'], label='Train Accuracy')\n",
    "plt.plot(history.history['val_accuracy'], label='Validation Accuracy')\n",
    "plt.xlabel('Epochs')\n",
    "plt.ylabel('Accuracy')\n",
    "plt.legend()\n",
    "plt.show()\n",
    "\n",
    "# Transfer learning modelinin test doğruluğunu değerlendirme\n",
    "score_transfer_learning = model.evaluate(x_test, test_yCl)\n",
    "print(\"Transfer Learning Test Accuracy: {:.2f}%\".format(score_transfer_learning[1] * 100))\n"
   ]
  },
  {
   "cell_type": "code",
   "execution_count": 15,
   "id": "1f5ef35e-7c96-427e-acba-7b1e759d7b7c",
   "metadata": {},
   "outputs": [
    {
     "data": {
      "image/png": "[encoded data removed]",
      "text/plain": [
       "<Figure size 432x288 with 1 Axes>"
      ]
     },
     "metadata": {
      "needs_background": "light"
     },
     "output_type": "display_data"
    }
   ],
   "source": [
    "# Test doğruluğunu görselleştirme\n",
    "plt.plot(history.history['accuracy'], label='Train Accuracy')\n",
    "plt.plot(history.history['val_accuracy'], label='Validation Accuracy')\n",
    "plt.plot([len(history.history['accuracy']) + i for i in range(len(score_transfer_learning))], [score_transfer_learning] * len(score_transfer_learning), label='Test Accuracy', linestyle='--')\n",
    "plt.xlabel('Epochs')\n",
    "plt.ylabel('Accuracy')\n",
    "plt.legend()\n",
    "plt.show()\n"
   ]
  },
  {
   "cell_type": "code",
   "execution_count": 16,
   "id": "9e8cda74-8867-49ca-8f82-d3a5eadc6948",
   "metadata": {},
   "outputs": [
    {
     "name": "stdout",
     "output_type": "stream",
     "text": [
      "40/40 [==============================] - 29s 720ms/step\n",
      "Transfer Learning Test Accuracy: 37.92%\n",
      "Transfer Learning Precision: 0.38\n",
      "Transfer Learning Recall: 1.00\n",
      "Transfer Learning F1 Score: 0.55\n",
      "Transfer Learning Confusion Matrix:\n",
      " [[  0 780]\n",
      " [  1 477]]\n",
      "Transfer Learning Classification Report:\n",
      "               precision    recall  f1-score   support\n",
      "\n",
      "   Bacterial       0.00      0.00      0.00       780\n",
      "       Viral       0.38      1.00      0.55       478\n",
      "\n",
      "    accuracy                           0.38      1258\n",
      "   macro avg       0.19      0.50      0.27      1258\n",
      "weighted avg       0.14      0.38      0.21      1258\n",
      "\n"
     ]
    }
   ],
   "source": [
    "from sklearn.metrics import accuracy_score, precision_score, recall_score, f1_score, confusion_matrix, classification_report\n",
    "\n",
    "# Modelin tahminlerini alın\n",
    "# Modelin tahminlerini alın\n",
    "y_pred_transfer_learning_prob = model.predict(x_test)\n",
    "y_pred_transfer_learning = np.argmax(y_pred_transfer_learning_prob, axis=1)\n",
    "\n",
    "\n",
    "# One-hot encoding'i geri dönüştür\n",
    "y_true_transfer_learning = np.argmax(test_yCl, axis=1)\n",
    "\n",
    "# Accuracy\n",
    "accuracy_transfer_learning = accuracy_score(y_true_transfer_learning, y_pred_transfer_learning)\n",
    "print(\"Transfer Learning Test Accuracy: {:.2f}%\".format(accuracy_transfer_learning * 100))\n",
    "\n",
    "# Precision\n",
    "precision_transfer_learning = precision_score(y_true_transfer_learning, y_pred_transfer_learning)\n",
    "print(\"Transfer Learning Precision: {:.2f}\".format(precision_transfer_learning))\n",
    "\n",
    "# Recall\n",
    "recall_transfer_learning = recall_score(y_true_transfer_learning, y_pred_transfer_learning)\n",
    "print(\"Transfer Learning Recall: {:.2f}\".format(recall_transfer_learning))\n",
    "\n",
    "# F1 Score\n",
    "f1_transfer_learning = f1_score(y_true_transfer_learning, y_pred_transfer_learning)\n",
    "print(\"Transfer Learning F1 Score: {:.2f}\".format(f1_transfer_learning))\n",
    "\n",
    "# Karmaşıklık Matrisi\n",
    "conf_mat_transfer_learning = confusion_matrix(y_true_transfer_learning, y_pred_transfer_learning)\n",
    "print(\"Transfer Learning Confusion Matrix:\\n\", conf_mat_transfer_learning)\n",
    "\n",
    "# Classification Report\n",
    "class_report_transfer_learning = classification_report(y_true_transfer_learning, y_pred_transfer_learning, target_names=CATEGORIES)\n",
    "print(\"Transfer Learning Classification Report:\\n\", class_report_transfer_learning)\n"
   ]
  },
  {
   "cell_type": "code",
   "execution_count": 17,
   "id": "eee02d65-d322-40bc-a9c8-58393634a3cb",
   "metadata": {},
   "outputs": [],
   "source": [
    "from keras.models import Sequential\n",
    "from keras.layers import Conv2D, MaxPooling2D, Flatten, Dense, BatchNormalization, Dropout\n",
    "from keras.optimizers import Adam\n",
    "from keras.callbacks import ModelCheckpoint, EarlyStopping\n",
    "from sklearn.metrics import accuracy_score, precision_score, recall_score, f1_score, confusion_matrix, classification_report\n",
    "\n",
    "# Yapay Sinir Ağı Modeli\n",
    "model_custom = Sequential()\n",
    "\n",
    "model_custom.add(Conv2D(32, (3, 3), padding='same', activation='relu', input_shape=(IMG_SIZE, IMG_SIZE, 3)))\n",
    "model_custom.add(MaxPooling2D(pool_size=(2, 2)))\n",
    "model_custom.add(BatchNormalization())\n",
    "model_custom.add(Dropout(0.25))\n",
    "\n",
    "model_custom.add(Conv2D(64, (3, 3), padding='same', activation='relu'))\n",
    "model_custom.add(MaxPooling2D(pool_size=(2, 2)))\n",
    "model_custom.add(BatchNormalization())\n",
    "model_custom.add(Dropout(0.25))\n",
    "\n",
    "model_custom.add(Flatten())\n",
    "model_custom.add(Dense(512, activation='relu'))\n",
    "model_custom.add(BatchNormalization())\n",
    "model_custom.add(Dropout(0.5))\n",
    "\n",
    "model_custom.add(Dense(2, activation='softmax'))\n"
   ]
  },
  {
   "cell_type": "code",
   "execution_count": 18,
   "id": "9264ebc5-dc67-45fd-84dc-da7dbae08fd6",
   "metadata": {},
   "outputs": [
    {
     "name": "stderr",
     "output_type": "stream",
     "text": [
      "WARNING:absl:`lr` is deprecated in Keras optimizer, please use `learning_rate` or use the legacy optimizer, e.g.,tf.keras.optimizers.legacy.Adam.\n"
     ]
    }
   ],
   "source": [
    "# Modeli derleme\n",
    "model_custom.compile(optimizer=Adam(lr=0.0001), loss='categorical_crossentropy', metrics=['accuracy'])"
   ]
  },
  {
   "cell_type": "code",
   "execution_count": 19,
   "id": "43782bb0-c14a-4173-86d2-011c58094995",
   "metadata": {},
   "outputs": [
    {
     "name": "stdout",
     "output_type": "stream",
     "text": [
      "Epoch 1/5\n",
      "5/5 [==============================] - ETA: 0s - loss: 3.3210 - accuracy: 0.6152"
     ]
    },
    {
     "name": "stderr",
     "output_type": "stream",
     "text": [
      "c:\\users\\excalibur\\appdata\\local\\programs\\python\\python39\\lib\\site-packages\\keras\\src\\engine\\training.py:3103: UserWarning: You are saving your model as an HDF5 file via `model.save()`. This file format is considered legacy. We recommend using instead the native Keras format, e.g. `model.save('my_model.keras')`.\n",
      "  saving_api.save_model(\n"
     ]
    },
    {
     "name": "stdout",
     "output_type": "stream",
     "text": [
      "5/5 [==============================] - 13s 2s/step - loss: 3.3210 - accuracy: 0.6152 - val_loss: 138.0178 - val_accuracy: 0.3932\n",
      "Epoch 2/5\n",
      "5/5 [==============================] - 12s 2s/step - loss: 0.9195 - accuracy: 0.7133 - val_loss: 15.7129 - val_accuracy: 0.4188\n",
      "Epoch 3/5\n",
      "5/5 [==============================] - 11s 2s/step - loss: 0.7138 - accuracy: 0.7081 - val_loss: 7.1773 - val_accuracy: 0.4530\n",
      "Epoch 4/5\n",
      "5/5 [==============================] - 11s 2s/step - loss: 0.6489 - accuracy: 0.7305 - val_loss: 8.6428 - val_accuracy: 0.4231\n",
      "Epoch 5/5\n",
      "5/5 [==============================] - 11s 2s/step - loss: 0.5745 - accuracy: 0.7410 - val_loss: 7.3737 - val_accuracy: 0.4573\n"
     ]
    }
   ],
   "source": [
    "# Modeli eğitme\n",
    "history_custom = model_custom.fit(x_train, train_yCl,\n",
    "                                  epochs=5,\n",
    "                                  batch_size=512,\n",
    "                                  validation_data=(x_val, valid_yCl),\n",
    "                                  callbacks=[ModelCheckpoint(\"best_custom_model.h5\", monitor=\"val_loss\", save_best_only=True),\n",
    "                                             EarlyStopping(monitor=\"val_loss\", patience=3)],\n",
    "                                  verbose=1)"
   ]
  },
  {
   "cell_type": "code",
   "execution_count": 20,
   "id": "51952334-ba7f-4cd5-8138-04f8aafbd421",
   "metadata": {},
   "outputs": [
    {
     "name": "stdout",
     "output_type": "stream",
     "text": [
      "40/40 [==============================] - 2s 37ms/step\n",
      "Custom Model Test Accuracy: 44.04%\n",
      "Custom Model Precision: 0.40\n",
      "Custom Model Recall: 0.97\n",
      "Custom Model F1 Score: 0.57\n",
      "Custom Model Confusion Matrix:\n",
      " [[ 91 689]\n",
      " [ 15 463]]\n",
      "Custom Model Classification Report:\n",
      "               precision    recall  f1-score   support\n",
      "\n",
      "   Bacterial       0.86      0.12      0.21       780\n",
      "       Viral       0.40      0.97      0.57       478\n",
      "\n",
      "    accuracy                           0.44      1258\n",
      "   macro avg       0.63      0.54      0.39      1258\n",
      "weighted avg       0.69      0.44      0.34      1258\n",
      "\n"
     ]
    }
   ],
   "source": [
    "# Test verisi üzerinde modelin performansını değerlendirme\n",
    "y_pred_custom_prob = model_custom.predict(x_test)\n",
    "y_pred_custom = np.argmax(y_pred_custom_prob, axis=1)\n",
    "\n",
    "# One-hot encoding'i geri dönüştür\n",
    "y_true_custom = np.argmax(test_yCl, axis=1)\n",
    "\n",
    "# Accuracy\n",
    "accuracy_custom = accuracy_score(y_true_custom, y_pred_custom)\n",
    "print(\"Custom Model Test Accuracy: {:.2f}%\".format(accuracy_custom * 100))\n",
    "\n",
    "# Precision\n",
    "precision_custom = precision_score(y_true_custom, y_pred_custom)\n",
    "print(\"Custom Model Precision: {:.2f}\".format(precision_custom))\n",
    "\n",
    "# Recall\n",
    "recall_custom = recall_score(y_true_custom, y_pred_custom)\n",
    "print(\"Custom Model Recall: {:.2f}\".format(recall_custom))\n",
    "\n",
    "# F1 Score\n",
    "f1_custom = f1_score(y_true_custom, y_pred_custom)\n",
    "print(\"Custom Model F1 Score: {:.2f}\".format(f1_custom))\n",
    "\n",
    "# Karmaşıklık Matrisi\n",
    "conf_mat_custom = confusion_matrix(y_true_custom, y_pred_custom)\n",
    "print(\"Custom Model Confusion Matrix:\\n\", conf_mat_custom)\n",
    "\n",
    "# Classification Report\n",
    "class_report_custom = classification_report(y_true_custom, y_pred_custom, target_names=CATEGORIES)\n",
    "print(\"Custom Model Classification Report:\\n\", class_report_custom)"
   ]
  },
  {
   "cell_type": "code",
   "execution_count": null,
   "id": "5eb7d311-b2ac-4b8a-b7d3-12f333ad0ee1",
   "metadata": {},
   "outputs": [],
   "source": []
  }
 ],
 "metadata": {
  "kernelspec": {
   "display_name": "Python 3",
   "language": "python",
   "name": "python3"
  },
  "language_info": {
   "codemirror_mode": {
    "name": "ipython",
    "version": 3
   },
   "file_extension": ".py",
   "mimetype": "text/x-python",
   "name": "python",
   "nbconvert_exporter": "python",
   "pygments_lexer": "ipython3",
   "version": "3.9.0"
  }
 },
 "nbformat": 4,
 "nbformat_minor": 5
}
